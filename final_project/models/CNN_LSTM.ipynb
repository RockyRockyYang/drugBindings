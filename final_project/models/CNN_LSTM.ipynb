{
 "metadata": {
  "language_info": {
   "codemirror_mode": {
    "name": "ipython",
    "version": 3
   },
   "file_extension": ".py",
   "mimetype": "text/x-python",
   "name": "python",
   "nbconvert_exporter": "python",
   "pygments_lexer": "ipython3",
   "version": "3.8.3"
  },
  "orig_nbformat": 2,
  "kernelspec": {
   "name": "python383jvsc74a57bd0f9520ba11fdc1099356e05d27a34ed870b487e4078e45fe1cddd0198c8b5354c",
   "display_name": "Python 3.8.3 64-bit ('base': conda)"
  }
 },
 "nbformat": 4,
 "nbformat_minor": 2,
 "cells": [
  {
   "source": [
    "## AM 216 Final Project\n",
    "Lihong Zhang, Litao Yan, Ruoxi Yang\n",
    "\n",
    "We were inspired by the drug-protein affinity project in the mini projects, and do the final project in exploring the representations and models of drugs and proteins. "
   ],
   "cell_type": "markdown",
   "metadata": {}
  },
  {
   "cell_type": "code",
   "execution_count": 1,
   "metadata": {},
   "outputs": [
    {
     "output_type": "stream",
     "name": "stderr",
     "text": [
      "RDKit WARNING: [22:26:26] Enabling RDKit 2019.09.3 jupyter extensions\n"
     ]
    }
   ],
   "source": [
    "import numpy as np\n",
    "import rdkit\n",
    "from rdkit.Chem import Draw\n",
    "from rdkit.Chem import AllChem as Chem\n",
    "from rdkit.Chem import MolFromSmiles\n",
    "\n",
    "import tensorflow as tf\n",
    "from keras import Sequential, Model\n",
    "from keras.layers import Dense, concatenate, Dropout\n",
    "from tensorflow.keras.models import Model\n",
    "\n",
    "import pandas as pd\n",
    "import matplotlib.pyplot as plt\n",
    "import json\n",
    "import pickle\n",
    "from collections import OrderedDict\n",
    "import networkx as nx\n",
    "\n",
    "from deepchem.metrics import to_one_hot\n",
    "from deepchem.feat.mol_graphs import ConvMol\n",
    "\n",
    "import sys\n",
    "sys.path.append('/usr/local/lib/python3.7/site-packages/')\n",
    "import deepchem as dc"
   ]
  },
  {
   "source": [
    "Prepare train data and test data"
   ],
   "cell_type": "markdown",
   "metadata": {}
  },
  {
   "cell_type": "code",
   "execution_count": 2,
   "metadata": {},
   "outputs": [],
   "source": [
    "LOCAL_KIBA_PATH = '../data/mini_project_data/data/kiba/'\n",
    "LOCAL_DAVIS_PATH = '../data/GraphDTA_davis/'\n",
    "G_PATH = './drive/MyDrive/Colab Notebooks/Drug Binding'\n",
    "max_seq_len = 1000\n",
    "# for converting protein sequence to categorical format/numerical format\n",
    "seq_voc = \"ABCDEFGHIKLMNOPQRSTUVWXYZ\"\n",
    "seq_dict = {v:i for i,v in enumerate(seq_voc)}\n",
    "seq_dict_len = len(seq_dict)\n"
   ]
  },
  {
   "cell_type": "code",
   "execution_count": 3,
   "metadata": {},
   "outputs": [],
   "source": [
    "def adj2matr(raw_a):\n",
    "    len_a = len(raw_a)\n",
    "    matr = np.zeros((len_a, len_a))\n",
    "    for i in range(len_a):\n",
    "        for j in raw_a[i]:\n",
    "            matr[i, j] = 1\n",
    "    return matr\n",
    "\n",
    "# convmol to matrices\n",
    "def conv2matr(convmol):\n",
    "    nodes = []\n",
    "    adj = []\n",
    "    for i in range(len(convmol)):\n",
    "        nodes.append(convmol[i].get_atom_features())\n",
    "        adj.append(adj2matr(convmol[i].get_adjacency_list()))\n",
    "    return [nodes, adj]\n",
    "\n",
    "\n",
    "\n",
    "# The codes below in this cell are from section 10 of AM216 and mini project\n",
    "def seq_to_cat(prot):  # prot: protein\n",
    "    x = np.zeros(max_seq_len)\n",
    "    for i, ch in enumerate(prot[:max_seq_len]): \n",
    "        x[i] = seq_dict[ch]\n",
    "    return x  \n",
    "\n",
    "def read_data(data_path):\n",
    "    drugs_ = json.load(open(data_path + \"ligands_can.txt\"), object_pairs_hook=OrderedDict)\n",
    "    smiles = np.array([Chem.MolToSmiles(Chem.MolFromSmiles(d),isomericSmiles=True) for d in drugs_.values()])\n",
    "    featurizer=dc.feat.ConvMolFeaturizer(per_atom_fragmentation=False)\n",
    "    convmol = featurizer.featurize(smiles)\n",
    "    # drugs = conv2matr(convmol)\n",
    "\n",
    "    proteins_ = json.load(open(data_path + \"proteins.txt\"), object_pairs_hook=OrderedDict)\n",
    "    proteins = np.array(list(proteins_.values()))\n",
    "    affinity = np.array(pickle.load(open(data_path + \"Y\",\"rb\"), encoding='latin1'))\n",
    "    train_fold = json.load(open(data_path + \"folds/train_fold_setting1.txt\"))\n",
    "    train_fold = [ee for e in train_fold for ee in e ]    \n",
    "    test_fold = json.load(open(data_path + \"folds/test_fold_setting1.txt\"))\n",
    "\n",
    "    # Prepare train/test data with fold indices\n",
    "    rows, cols = np.where(np.isnan(affinity)==False) \n",
    "    convmol_tr = convmol[rows[train_fold]]    # (98545,)\n",
    "    smiles_tr = smiles[rows[train_fold]] \n",
    "    proteins_tr = np.array([seq_to_cat(p) for p in proteins[cols[train_fold]]])   # (98545, 1000)\n",
    "    affinity_tr = affinity[rows[train_fold], cols[train_fold]]  # (98545,)\n",
    "\n",
    "    convmol_ts = convmol[rows[test_fold]] # (19709,)\n",
    "    smiles_ts = smiles[rows[test_fold]] # (19709,)\n",
    "    proteins_ts = np.array([seq_to_cat(p) for p in proteins[cols[test_fold]]]) # (19709, 1000)\n",
    "    affinity_ts = affinity[rows[test_fold], cols[test_fold]]    # (19709,)\n",
    "    '''\n",
    "    print('Example of drug:{}'.format(drugs_tr[0]))\n",
    "    print('Example of protein:{} ...'.format(proteins_tr[0][:10]))\n",
    "    print('Example of affinity score:{}'.format(affinity_tr[0]))\n",
    "    '''\n",
    "    return convmol_tr, smiles_tr, proteins_tr, affinity_tr, convmol_ts, smiles_ts, proteins_ts, affinity_ts\n",
    "\n",
    "def smiles_graph(path):\n",
    "    drugs_ = json.load(open(path + 'ligands_can.txt'), object_pairs_hook=OrderedDict)\n",
    "    # print('\\nOriginal molecule:')\n",
    "    mols = MolFromSmiles(smiles[0])\n",
    "    # Draw.MolToImage(mols)\n",
    "    featurizer=dc.feat.ConvMolFeaturizer(per_atom_fragmentation=False)\n",
    "    graph_data = featurizer.featurize(smiles)\n",
    "    return smiles, graph_data"
   ]
  },
  {
   "source": [
    "Convert SMILES to Graphs"
   ],
   "cell_type": "markdown",
   "metadata": {}
  },
  {
   "cell_type": "code",
   "execution_count": 4,
   "metadata": {},
   "outputs": [],
   "source": [
    "convmol_tr_kiba, smiles_tr_kiba, proteins_tr_kiba, affinity_tr_kiba, convmol_ts_kiba, smiles_ts_kiba, proteins_ts_kiba, affinity_ts_kiba = read_data(LOCAL_KIBA_PATH)\n",
    "convmol_tr_davis, smiles_tr_davis, proteins_tr_davis, affinity_tr_davis, convmol_ts_davis, smiles_ts_davis, proteins_ts_davis, affinity_ts_davis = read_data(LOCAL_DAVIS_PATH)"
   ]
  },
  {
   "cell_type": "code",
   "execution_count": 5,
   "metadata": {},
   "outputs": [],
   "source": [
    "# get the nodes and adjacency matrix of drugs\n",
    "nodes_tr_kiba, adj_tr_kiba = conv2matr(convmol_tr_kiba)\n",
    "nodes_ts_kiba, adj_ts_kiba = conv2matr(convmol_ts_kiba)\n",
    "\n",
    "nodes_tr_davis, adj_tr_davis = conv2matr(convmol_tr_davis)\n",
    "nodes_ts_davis, adj_ts_davis = conv2matr(convmol_ts_davis)"
   ]
  },
  {
   "cell_type": "code",
   "execution_count": null,
   "metadata": {},
   "outputs": [],
   "source": [
    "print(nodes_ts_kiba[0].shape, adj_ts_kiba[0].shape, nodes_ts_davis[0].shape, adj_ts_davis[0].shape)"
   ]
  },
  {
   "source": [
    "Build a 2D CNN based on graph DAVIS data\n",
    "\n",
    "\n"
   ],
   "cell_type": "markdown",
   "metadata": {}
  },
  {
   "cell_type": "code",
   "execution_count": 9,
   "metadata": {},
   "outputs": [
    {
     "output_type": "error",
     "ename": "NameError",
     "evalue": "name 'num_drugs' is not defined",
     "traceback": [
      "\u001b[0;31m---------------------------------------------------------------------------\u001b[0m",
      "\u001b[0;31mNameError\u001b[0m                                 Traceback (most recent call last)",
      "\u001b[0;32m<ipython-input-9-d8251195be1b>\u001b[0m in \u001b[0;36m<module>\u001b[0;34m\u001b[0m\n\u001b[1;32m     29\u001b[0m     \u001b[0;32mreturn\u001b[0m \u001b[0mcnn\u001b[0m\u001b[0;34m\u001b[0m\u001b[0;34m\u001b[0m\u001b[0m\n\u001b[1;32m     30\u001b[0m \u001b[0;34m\u001b[0m\u001b[0m\n\u001b[0;32m---> 31\u001b[0;31m \u001b[0mnodes_cnn\u001b[0m \u001b[0;34m=\u001b[0m \u001b[0mcnn2d_nodes\u001b[0m\u001b[0;34m(\u001b[0m\u001b[0mnum_drugs\u001b[0m\u001b[0;34m)\u001b[0m\u001b[0;34m\u001b[0m\u001b[0;34m\u001b[0m\u001b[0m\n\u001b[0m\u001b[1;32m     32\u001b[0m \u001b[0madj_cnn\u001b[0m \u001b[0;34m=\u001b[0m \u001b[0mcnn2d_adj\u001b[0m\u001b[0;34m(\u001b[0m\u001b[0mnum_prot\u001b[0m\u001b[0;34m)\u001b[0m\u001b[0;34m\u001b[0m\u001b[0;34m\u001b[0m\u001b[0m\n\u001b[1;32m     33\u001b[0m \u001b[0mprot_cnn\u001b[0m \u001b[0;34m=\u001b[0m \u001b[0mcnn1d\u001b[0m\u001b[0;34m(\u001b[0m\u001b[0minput_dim\u001b[0m\u001b[0;34m)\u001b[0m\u001b[0;34m\u001b[0m\u001b[0;34m\u001b[0m\u001b[0m\n",
      "\u001b[0;31mNameError\u001b[0m: name 'num_drugs' is not defined"
     ]
    }
   ],
   "source": [
    "from keras import Sequential, Model\n",
    "from keras.layers import Conv1D, MaxPooling1D, Flatten, Conv2D, MaxPooling2D\n",
    "\n",
    "nodes = nodes_ts_davis[0]\n",
    "adj = adj_ts_davis\n",
    "\n",
    "def cnn1d(input_dim):\n",
    "    cnn = Sequential() # Create sequential model\n",
    "    cnn.add(Conv1D(16, 3, activation='relu', input_shape=(input_dim, 1)))\n",
    "    cnn.add(MaxPooling1D(3))\n",
    "    cnn.add(Flatten())\n",
    "    cnn.add(Dropout(0.1))\n",
    "    cnn.add(Dense(16, activation = 'linear'))\n",
    "    return cnn\n",
    "\n",
    "def cnn2d_nodes(nodes):\n",
    "    cnn = Sequential() # Create sequential model\n",
    "    cnn.add(Conv2D(16, 3, activation='relu', input_shape=nodes.shape))\n",
    "    cnn.add(MaxPooling2D(3))\n",
    "    cnn.add(Flatten())\n",
    "    cnn.add(Dropout(0.1))\n",
    "    cnn.add(Dense(16, activation = 'linear'))\n",
    "    return cnn\n",
    "\n",
    "def cnn2d_adj(adj):\n",
    "    cnn = Sequential() # Create sequential model\n",
    "    cnn.add(Conv2D(16, 3, activation='relu', input_shape=adj.shape))\n",
    "    cnn.add(MaxPooling2D(3))\n",
    "    cnn.add(Flatten())\n",
    "    cnn.add(Dropout(0.1))\n",
    "    cnn.add(Dense(16, activation = 'linear'))\n",
    "    return cnn\n",
    "\n",
    "nodes_cnn = cnn2d_nodes(num_drugs)\n",
    "adj_cnn = cnn2d_adj(num_prot)\n",
    "prot_cnn = cnn1d(input_dim)\n",
    "drugs_concat = concatenate([nodes_cnn.output, adj_cnn.output])\n",
    "cnn_concat = concatenate([drugs_concat, prot_cnn.output])\n",
    "\n",
    "final_concat = Model(inputs=[[nodes_cnn.input, adj_cnn.input], prot_cnn.input], outputs=cnn_concat)\n",
    "\n",
    "\n",
    "final_concat = Dense(1024, activation='relu')(final_concat)\n",
    "final_concat = Dropout(0.1)(cnn_concat)\n",
    "final_concat = Dense(16, activation='relu')(final_concat)\n",
    "\n",
    "final = Dense(1, activation='linear')(final_concat)\n",
    "\n",
    "\n",
    "# Show model summary\n",
    "final.compile(optimizer='adam', loss='mean_squared_error', metrics=['mean_squared_error'])\n",
    "final.summary()"
   ]
  },
  {
   "cell_type": "code",
   "execution_count": null,
   "metadata": {},
   "outputs": [],
   "source": [
    "# Convert SMILES to graphs\n",
    "smiles_kiba, convmol_kiba = smiles_graph(LOCAL_KIBA_PATH)\n",
    "smiles_davis, convmol_davis = smiles_graph(LOCAL_DAVIS_PATH)"
   ]
  },
  {
   "source": [
    "Convert graphs to 2D matrix of 1s and 0s"
   ],
   "cell_type": "markdown",
   "metadata": {}
  },
  {
   "cell_type": "code",
   "execution_count": null,
   "metadata": {},
   "outputs": [],
   "source": []
  },
  {
   "cell_type": "code",
   "execution_count": null,
   "metadata": {},
   "outputs": [],
   "source": []
  },
  {
   "source": [
    "Train a CNN model on DAVIS Data"
   ],
   "cell_type": "markdown",
   "metadata": {}
  },
  {
   "cell_type": "code",
   "execution_count": 2,
   "metadata": {},
   "outputs": [],
   "source": [
    "from keras.layers import Dense, Dropout, LSTM\n",
    "from keras.optimizers import Adam\n",
    "from keras import Sequential, Model\n",
    "from keras.layers import Conv1D, MaxPooling1D, Flatten"
   ]
  },
  {
   "source": [
    "Prepare graph data for CNN"
   ],
   "cell_type": "markdown",
   "metadata": {}
  },
  {
   "cell_type": "code",
   "execution_count": null,
   "metadata": {},
   "outputs": [],
   "source": [
    "num_train, num_drugs = drugs_ecfp_tr.shape\n",
    "num_prot = proteins_tr.shape[1]\n",
    "drugs_tr_reshape = drugs_ecfp_tr.reshape((num_train, num_drugs, 1))\n",
    "proteins_tr_reshape = proteins_tr.reshape((num_train, num_prot, 1))\n",
    "\n",
    "# Testing data\n",
    "drug_ts_reshape = drugs_ecfp_ts.reshape((drugs_ecfp_ts.shape[0], drugs_ecfp_ts.shape[1], 1))\n",
    "proteins_ts_reshape = proteins_ts.reshape((proteins_ts.shape[0], proteins_ts.shape[1], 1))"
   ]
  }
 ]
}