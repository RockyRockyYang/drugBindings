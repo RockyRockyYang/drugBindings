{
 "metadata": {
  "language_info": {
   "codemirror_mode": {
    "name": "ipython",
    "version": 3
   },
   "file_extension": ".py",
   "mimetype": "text/x-python",
   "name": "python",
   "nbconvert_exporter": "python",
   "pygments_lexer": "ipython3",
   "version": "3.8.3"
  },
  "orig_nbformat": 2,
  "kernelspec": {
   "name": "python383jvsc74a57bd0f9520ba11fdc1099356e05d27a34ed870b487e4078e45fe1cddd0198c8b5354c",
   "display_name": "Python 3.8.3 64-bit ('base': conda)"
  }
 },
 "nbformat": 4,
 "nbformat_minor": 2,
 "cells": [
  {
   "source": [
    "## AM 216 Final Project\n",
    "Lihong Zhang, Litao Yan, Ruoxi Yang\n",
    "\n",
    "We were inspired by the drug-protein affinity project in the mini projects, and do the final project in exploring the representations and models of drugs and proteins. "
   ],
   "cell_type": "markdown",
   "metadata": {}
  },
  {
   "cell_type": "code",
   "execution_count": 19,
   "metadata": {},
   "outputs": [],
   "source": [
    "import numpy as np\n",
    "import rdkit\n",
    "from rdkit.Chem import Draw\n",
    "from rdkit.Chem import AllChem as Chem\n",
    "from rdkit.Chem import MolFromSmiles\n",
    "\n",
    "import tensorflow as tf\n",
    "from keras import Sequential, Model\n",
    "from keras.layers import Dense, concatenate, Dropout\n",
    "from tensorflow.keras.models import Model\n",
    "from keras import Sequential, Model\n",
    "from keras.layers import Conv1D, MaxPooling1D, Flatten, Conv2D, MaxPooling2D\n",
    "\n",
    "import pandas as pd\n",
    "import matplotlib.pyplot as plt\n",
    "import json\n",
    "import pickle\n",
    "from collections import OrderedDict\n",
    "import networkx as nx\n",
    "\n",
    "from deepchem.metrics import to_one_hot\n",
    "from deepchem.feat.mol_graphs import ConvMol\n",
    "\n",
    "import sys\n",
    "sys.path.append('/usr/local/lib/python3.7/site-packages/')\n",
    "import deepchem as dc"
   ]
  },
  {
   "source": [
    "Prepare train data and test data"
   ],
   "cell_type": "markdown",
   "metadata": {}
  },
  {
   "cell_type": "code",
   "execution_count": 4,
   "metadata": {},
   "outputs": [],
   "source": [
    "LOCAL_KIBA_PATH = '../data/mini_project_data/data/kiba/'\n",
    "LOCAL_DAVIS_PATH = '../data/GraphDTA_davis/'\n",
    "G_PATH = './drive/MyDrive/Colab Notebooks/Drug Binding'\n",
    "max_seq_len = 1000\n",
    "# for converting protein sequence to categorical format/numerical format\n",
    "seq_voc = \"ABCDEFGHIKLMNOPQRSTUVWXYZ\"\n",
    "seq_dict = {v:i for i,v in enumerate(seq_voc)}\n",
    "seq_dict_len = len(seq_dict)\n"
   ]
  },
  {
   "cell_type": "code",
   "execution_count": 5,
   "metadata": {},
   "outputs": [
    {
     "output_type": "execute_result",
     "data": {
      "text/plain": [
       "(2, 2, 2)"
      ]
     },
     "metadata": {},
     "execution_count": 5
    }
   ],
   "source": [
    "np.concatenate((np.array([[1, 2], [3, 4]]).reshape(-1, 2, 1), np.array([[5, 6], [7, 8]]).reshape(-1, 2, 1)), axis=2).shape"
   ]
  },
  {
   "cell_type": "code",
   "execution_count": 51,
   "metadata": {},
   "outputs": [],
   "source": [
    "# !! 13 2x2 matrices, nodes + adj together\n",
    "\n",
    "def adj2matr(raw_a):\n",
    "    len_a = len(raw_a)\n",
    "    matr = np.zeros((len_a, len_a))\n",
    "    for i in range(len_a):\n",
    "        for j in raw_a[i]:\n",
    "            matr[i, j] = 1\n",
    "    return matr\n",
    "\n",
    "# convmol to matrices\n",
    "def conv2matr(convmol):\n",
    "    nr, nc = max([convmol[i].get_atom_features().shape[0] for i in range(len(convmol))]), convmol[0].get_atom_features().shape[1]\n",
    "    amax = max([len(convmol[i].get_adjacency_list()) for i in range(len(convmol))])\n",
    "    ar, ac = amax, amax\n",
    "    nodes = []\n",
    "    adj = []\n",
    "    for i in range(len(convmol)):\n",
    "        temp_n = np.zeros((nr, nc))\n",
    "        n = convmol[i].get_atom_features()\n",
    "        temp_n[:n.shape[0],:n.shape[1]] = n\n",
    "        nodes.append(temp_n)\n",
    "        nodes.append(temp_n.reshape((temp_n.shape[0], temp_n.shape[1], 1)))\n",
    "        temp_a = np.zeros((ar, ac))\n",
    "        a = adj2matr(convmol[i].get_adjacency_list()) \n",
    "        temp_a[:a.shape[0],:a.shape[1]] = a\n",
    "        adj.append(temp_a)\n",
    "        adj.append(temp_a.reshape((temp_a.shape[0], temp_a.shape[1], 1)))\n",
    "    # return [np.concatenate(nodes, axis = 2), np.concatenate(adj, axis = 2)]\n",
    "    return [nodes, adj]\n",
    "\n",
    "\n",
    "\n",
    "# The codes below in this cell are from section 10 of AM216 and mini project\n",
    "def seq_to_cat(prot):  # prot: protein\n",
    "    x = np.zeros(max_seq_len)\n",
    "    for i, ch in enumerate(prot[:max_seq_len]): \n",
    "        x[i] = seq_dict[ch]\n",
    "    return x  \n",
    "\n",
    "def read_data(data_path):\n",
    "    drugs_ = json.load(open(data_path + \"ligands_can.txt\"), object_pairs_hook=OrderedDict)\n",
    "    \n",
    "    smiles = np.array([Chem.MolToSmiles(Chem.MolFromSmiles(d),isomericSmiles=True) for d in drugs_.values()])\n",
    "    featurizer=dc.feat.ConvMolFeaturizer(per_atom_fragmentation=False)\n",
    "    convmol = featurizer.featurize(smiles)\n",
    "\n",
    "    # inputs = [multiConvMol.get_atom_features(), multiConvMol.deg_slice, np.array(multiConvMol.membership)]\n",
    "    # for i in range(1, len(multiConvMol.get_deg_adjacency_lists())):\n",
    "      # inputs.append(multiConvMol.get_deg_adjacency_lists()[i])\n",
    "      \n",
    "    # drugs = conv2matr(convmol)\n",
    "\n",
    "    proteins_ = json.load(open(data_path + \"proteins.txt\"), object_pairs_hook=OrderedDict)\n",
    "    proteins = np.array(list(proteins_.values()))\n",
    "    affinity = np.array(pickle.load(open(data_path + \"Y\",\"rb\"), encoding='latin1'))\n",
    "    train_fold = json.load(open(data_path + \"folds/train_fold_setting1.txt\"))\n",
    "    train_fold = [ee for e in train_fold for ee in e ]    \n",
    "    test_fold = json.load(open(data_path + \"folds/test_fold_setting1.txt\"))\n",
    "\n",
    "    # Prepare train/test data with fold indices\n",
    "    rows, cols = np.where(np.isnan(affinity)==False) \n",
    "    convmol_tr = convmol[rows[train_fold]]    # (98545,)\n",
    "    smiles_tr = smiles[rows[train_fold]] \n",
    "    proteins_tr = np.array([seq_to_cat(p) for p in proteins[cols[train_fold]]])   # (98545, 1000)\n",
    "    affinity_tr = affinity[rows[train_fold], cols[train_fold]]  # (98545,)\n",
    "\n",
    "    convmol_ts = convmol[rows[test_fold]] # (19709,)\n",
    "    smiles_ts = smiles[rows[test_fold]] # (19709,)\n",
    "    proteins_ts = np.array([seq_to_cat(p) for p in proteins[cols[test_fold]]]) # (19709, 1000)\n",
    "    affinity_ts = affinity[rows[test_fold], cols[test_fold]]    # (19709,)\n",
    "    '''\n",
    "    print('Example of drug:{}'.format(drugs_tr[0]))\n",
    "    print('Example of protein:{} ...'.format(proteins_tr[0][:10]))\n",
    "    print('Example of affinity score:{}'.format(affinity_tr[0]))\n",
    "    '''\n",
    "    return convmol_tr, smiles_tr, proteins_tr, affinity_tr, convmol_ts, smiles_ts, proteins_ts, affinity_ts\n",
    "\n",
    "def smiles_graph(path):\n",
    "    drugs_ = json.load(open(path + 'ligands_can.txt'), object_pairs_hook=OrderedDict)\n",
    "    # print('\\nOriginal molecule:')\n",
    "    mols = MolFromSmiles(smiles[0])\n",
    "    # Draw.MolToImage(mols)\n",
    "    featurizer=dc.feat.ConvMolFeaturizer(per_atom_fragmentation=False)\n",
    "    graph_data = featurizer.featurize(smiles)\n",
    "    return smiles, graph_data"
   ]
  },
  {
   "cell_type": "code",
   "execution_count": 35,
   "metadata": {},
   "outputs": [],
   "source": [
    "nr, nc = max([convmol_tr_kiba[i].get_atom_features().shape[0] for i in range(len(convmol_tr_kiba))]), convmol_tr_kiba[0].get_atom_features().shape[1]"
   ]
  },
  {
   "source": [
    "Convert SMILES to Graphs"
   ],
   "cell_type": "markdown",
   "metadata": {}
  },
  {
   "cell_type": "code",
   "execution_count": 9,
   "metadata": {},
   "outputs": [],
   "source": [
    "convmol_tr_kiba, smiles_tr_kiba, proteins_tr_kiba, affinity_tr_kiba, convmol_ts_kiba, smiles_ts_kiba, proteins_ts_kiba, affinity_ts_kiba = read_data(LOCAL_KIBA_PATH)\n",
    "convmol_tr_davis, smiles_tr_davis, proteins_tr_davis, affinity_tr_davis, convmol_ts_davis, smiles_ts_davis, proteins_ts_davis, affinity_ts_davis = read_data(LOCAL_DAVIS_PATH)"
   ]
  },
  {
   "cell_type": "code",
   "execution_count": 31,
   "metadata": {},
   "outputs": [
    {
     "output_type": "execute_result",
     "data": {
      "text/plain": [
       "19"
      ]
     },
     "metadata": {},
     "execution_count": 31
    }
   ],
   "source": [
    "len(convmol_tr_kiba[2].get_adjacency_list())"
   ]
  },
  {
   "cell_type": "code",
   "execution_count": 50,
   "metadata": {},
   "outputs": [
    {
     "output_type": "error",
     "ename": "AxisError",
     "evalue": "axis 2 is out of bounds for array of dimension 2",
     "traceback": [
      "\u001b[0;31m---------------------------------------------------------------------------\u001b[0m",
      "\u001b[0;31mAxisError\u001b[0m                                 Traceback (most recent call last)",
      "\u001b[0;32m<ipython-input-50-5acdeca19804>\u001b[0m in \u001b[0;36m<module>\u001b[0;34m\u001b[0m\n\u001b[1;32m      1\u001b[0m \u001b[0;31m# get the nodes and adjacency matrix of drugs\u001b[0m\u001b[0;34m\u001b[0m\u001b[0;34m\u001b[0m\u001b[0;34m\u001b[0m\u001b[0m\n\u001b[0;32m----> 2\u001b[0;31m \u001b[0mnodes_tr_kiba\u001b[0m\u001b[0;34m,\u001b[0m \u001b[0madj_tr_kiba\u001b[0m \u001b[0;34m=\u001b[0m \u001b[0mconv2matr\u001b[0m\u001b[0;34m(\u001b[0m\u001b[0mconvmol_tr_kiba\u001b[0m\u001b[0;34m)\u001b[0m\u001b[0;34m\u001b[0m\u001b[0;34m\u001b[0m\u001b[0m\n\u001b[0m\u001b[1;32m      3\u001b[0m \u001b[0mnodes_ts_kiba\u001b[0m\u001b[0;34m,\u001b[0m \u001b[0madj_ts_kiba\u001b[0m \u001b[0;34m=\u001b[0m \u001b[0mconv2matr\u001b[0m\u001b[0;34m(\u001b[0m\u001b[0mconvmol_ts_kiba\u001b[0m\u001b[0;34m)\u001b[0m\u001b[0;34m\u001b[0m\u001b[0;34m\u001b[0m\u001b[0m\n\u001b[1;32m      4\u001b[0m \u001b[0;34m\u001b[0m\u001b[0m\n\u001b[1;32m      5\u001b[0m \u001b[0mnodes_tr_davis\u001b[0m\u001b[0;34m,\u001b[0m \u001b[0madj_tr_davis\u001b[0m \u001b[0;34m=\u001b[0m \u001b[0mconv2matr\u001b[0m\u001b[0;34m(\u001b[0m\u001b[0mconvmol_tr_davis\u001b[0m\u001b[0;34m)\u001b[0m\u001b[0;34m\u001b[0m\u001b[0;34m\u001b[0m\u001b[0m\n",
      "\u001b[0;32m<ipython-input-49-bca6bcfc49d3>\u001b[0m in \u001b[0;36mconv2matr\u001b[0;34m(convmol)\u001b[0m\n\u001b[1;32m     27\u001b[0m         \u001b[0madj\u001b[0m\u001b[0;34m.\u001b[0m\u001b[0mappend\u001b[0m\u001b[0;34m(\u001b[0m\u001b[0mtemp_a\u001b[0m\u001b[0;34m)\u001b[0m\u001b[0;34m\u001b[0m\u001b[0;34m\u001b[0m\u001b[0m\n\u001b[1;32m     28\u001b[0m         \u001b[0;31m# adj.append(temp_a.reshape((temp_a.shape[0], temp_a.shape[1], 1)))\u001b[0m\u001b[0;34m\u001b[0m\u001b[0;34m\u001b[0m\u001b[0;34m\u001b[0m\u001b[0m\n\u001b[0;32m---> 29\u001b[0;31m     \u001b[0;32mreturn\u001b[0m \u001b[0;34m[\u001b[0m\u001b[0mnp\u001b[0m\u001b[0;34m.\u001b[0m\u001b[0mconcatenate\u001b[0m\u001b[0;34m(\u001b[0m\u001b[0mnodes\u001b[0m\u001b[0;34m,\u001b[0m \u001b[0maxis\u001b[0m \u001b[0;34m=\u001b[0m \u001b[0;36m2\u001b[0m\u001b[0;34m)\u001b[0m\u001b[0;34m,\u001b[0m \u001b[0mnp\u001b[0m\u001b[0;34m.\u001b[0m\u001b[0mconcatenate\u001b[0m\u001b[0;34m(\u001b[0m\u001b[0madj\u001b[0m\u001b[0;34m,\u001b[0m \u001b[0maxis\u001b[0m \u001b[0;34m=\u001b[0m \u001b[0;36m2\u001b[0m\u001b[0;34m)\u001b[0m\u001b[0;34m]\u001b[0m\u001b[0;34m\u001b[0m\u001b[0;34m\u001b[0m\u001b[0m\n\u001b[0m\u001b[1;32m     30\u001b[0m \u001b[0;34m\u001b[0m\u001b[0m\n\u001b[1;32m     31\u001b[0m \u001b[0;34m\u001b[0m\u001b[0m\n",
      "\u001b[0;32m<__array_function__ internals>\u001b[0m in \u001b[0;36mconcatenate\u001b[0;34m(*args, **kwargs)\u001b[0m\n",
      "\u001b[0;31mAxisError\u001b[0m: axis 2 is out of bounds for array of dimension 2"
     ]
    }
   ],
   "source": [
    "# get the nodes and adjacency matrix of drugs\n",
    "nodes_tr_kiba, adj_tr_kiba = conv2matr(convmol_tr_kiba)\n",
    "nodes_ts_kiba, adj_ts_kiba = conv2matr(convmol_ts_kiba)\n",
    "\n",
    "nodes_tr_davis, adj_tr_davis = conv2matr(convmol_tr_davis)\n",
    "nodes_ts_davis, adj_ts_davis = conv2matr(convmol_ts_davis)"
   ]
  },
  {
   "cell_type": "code",
   "execution_count": 47,
   "metadata": {},
   "outputs": [
    {
     "output_type": "error",
     "ename": "ValueError",
     "evalue": "Expected 1D or 2D array, got 3D array instead",
     "traceback": [
      "\u001b[0;31m---------------------------------------------------------------------------\u001b[0m",
      "\u001b[0;31mValueError\u001b[0m                                Traceback (most recent call last)",
      "\u001b[0;32m<ipython-input-47-085dd53ba9c6>\u001b[0m in \u001b[0;36m<module>\u001b[0;34m\u001b[0m\n\u001b[0;32m----> 1\u001b[0;31m \u001b[0mnp\u001b[0m\u001b[0;34m.\u001b[0m\u001b[0msavetxt\u001b[0m\u001b[0;34m(\u001b[0m\u001b[0;34m\"nodes_tr_kiba.txt\"\u001b[0m\u001b[0;34m,\u001b[0m \u001b[0mnodes_tr_kiba\u001b[0m\u001b[0;34m)\u001b[0m\u001b[0;34m\u001b[0m\u001b[0;34m\u001b[0m\u001b[0m\n\u001b[0m\u001b[1;32m      2\u001b[0m \u001b[0mnp\u001b[0m\u001b[0;34m.\u001b[0m\u001b[0msavetxt\u001b[0m\u001b[0;34m(\u001b[0m\u001b[0;34m\"adj_tr_kiba.txt\"\u001b[0m\u001b[0;34m,\u001b[0m \u001b[0madj_tr_kiba\u001b[0m\u001b[0;34m)\u001b[0m\u001b[0;34m\u001b[0m\u001b[0;34m\u001b[0m\u001b[0m\n\u001b[1;32m      3\u001b[0m \u001b[0mnp\u001b[0m\u001b[0;34m.\u001b[0m\u001b[0msavetxt\u001b[0m\u001b[0;34m(\u001b[0m\u001b[0;34m\"nodes_ts_kiba.txt\"\u001b[0m\u001b[0;34m,\u001b[0m \u001b[0mnodes_ts_kiba\u001b[0m\u001b[0;34m)\u001b[0m\u001b[0;34m\u001b[0m\u001b[0;34m\u001b[0m\u001b[0m\n\u001b[1;32m      4\u001b[0m \u001b[0mnp\u001b[0m\u001b[0;34m.\u001b[0m\u001b[0msavetxt\u001b[0m\u001b[0;34m(\u001b[0m\u001b[0;34m\"adj_ts_kiba.txt\"\u001b[0m\u001b[0;34m,\u001b[0m \u001b[0madj_ts_kiba\u001b[0m\u001b[0;34m)\u001b[0m\u001b[0;34m\u001b[0m\u001b[0;34m\u001b[0m\u001b[0m\n\u001b[1;32m      5\u001b[0m \u001b[0;34m\u001b[0m\u001b[0m\n",
      "\u001b[0;32m<__array_function__ internals>\u001b[0m in \u001b[0;36msavetxt\u001b[0;34m(*args, **kwargs)\u001b[0m\n",
      "\u001b[0;32m~/opt/anaconda3/lib/python3.8/site-packages/numpy/lib/npyio.py\u001b[0m in \u001b[0;36msavetxt\u001b[0;34m(fname, X, fmt, delimiter, newline, header, footer, comments, encoding)\u001b[0m\n\u001b[1;32m   1369\u001b[0m         \u001b[0;31m# Handle 1-dimensional arrays\u001b[0m\u001b[0;34m\u001b[0m\u001b[0;34m\u001b[0m\u001b[0;34m\u001b[0m\u001b[0m\n\u001b[1;32m   1370\u001b[0m         \u001b[0;32mif\u001b[0m \u001b[0mX\u001b[0m\u001b[0;34m.\u001b[0m\u001b[0mndim\u001b[0m \u001b[0;34m==\u001b[0m \u001b[0;36m0\u001b[0m \u001b[0;32mor\u001b[0m \u001b[0mX\u001b[0m\u001b[0;34m.\u001b[0m\u001b[0mndim\u001b[0m \u001b[0;34m>\u001b[0m \u001b[0;36m2\u001b[0m\u001b[0;34m:\u001b[0m\u001b[0;34m\u001b[0m\u001b[0;34m\u001b[0m\u001b[0m\n\u001b[0;32m-> 1371\u001b[0;31m             raise ValueError(\n\u001b[0m\u001b[1;32m   1372\u001b[0m                 \"Expected 1D or 2D array, got %dD array instead\" % X.ndim)\n\u001b[1;32m   1373\u001b[0m         \u001b[0;32melif\u001b[0m \u001b[0mX\u001b[0m\u001b[0;34m.\u001b[0m\u001b[0mndim\u001b[0m \u001b[0;34m==\u001b[0m \u001b[0;36m1\u001b[0m\u001b[0;34m:\u001b[0m\u001b[0;34m\u001b[0m\u001b[0;34m\u001b[0m\u001b[0m\n",
      "\u001b[0;31mValueError\u001b[0m: Expected 1D or 2D array, got 3D array instead"
     ]
    }
   ],
   "source": [
    "np.savetxt(\"nodes_tr_kiba.txt\", nodes_tr_kiba)\n",
    "np.savetxt(\"adj_tr_kiba.txt\", adj_tr_kiba)\n",
    "np.savetxt(\"nodes_ts_kiba.txt\", nodes_ts_kiba)\n",
    "np.savetxt(\"adj_ts_kiba.txt\", adj_ts_kiba)\n",
    "\n",
    "np.savetxt(\"nodes_tr_davis.txt\", nodes_tr_davis)\n",
    "np.savetxt(\"adj_tr_davis.txt\", adj_tr_davis)\n",
    "np.savetxt(\"nodes_ts_davis.txt\", nodes_ts_davis)\n",
    "np.savetxt(\"adj_ts_davis.txt\", adj_ts_davis)\n",
    "\n"
   ]
  },
  {
   "cell_type": "code",
   "execution_count": 48,
   "metadata": {},
   "outputs": [
    {
     "output_type": "stream",
     "name": "stdout",
     "text": [
      "(268, 75, 19709) (75, 19709) (268, 268, 19709) (46, 75, 5010) (46, 46, 5010)\n"
     ]
    }
   ],
   "source": [
    "print(nodes_ts_kiba.shape, nodes_ts_kiba[0].shape, adj_ts_kiba.shape, nodes_ts_davis.shape, adj_ts_davis.shape)"
   ]
  },
  {
   "source": [
    "Prepare data for CNN"
   ],
   "cell_type": "markdown",
   "metadata": {}
  },
  {
   "cell_type": "code",
   "execution_count": 12,
   "metadata": {},
   "outputs": [],
   "source": [
    "# tr_size, drug_size = drugs_ecfp_tr.shape[0], drugs_ecfp_tr.shape[1]\n",
    "num_ts_davis = proteins_ts_davis.shape[0]\n",
    "\n",
    "# num_train, num_drugs = drugs_ecfp_tr.shape\n",
    "num_tr_davis, num_prot_davis = proteins_tr_davis.shape\n",
    "# drugs_tr_reshape = drugs_ecfp_tr.reshape((num_train, num_drugs, 1))\n",
    "proteins_tr_davis_reshape = proteins_tr_davis.reshape((num_tr_davis, num_prot_davis, 1))\n",
    "\n",
    "# Testing data\n",
    "# drug_ts_reshape = drugs_ecfp_ts.reshape((drugs_ecfp_ts.shape[0], drugs_ecfp_ts.shape[1], 1))\n",
    "# proteins_ts_reshape = proteins_ts.reshape((proteins_ts.shape[0], proteins_ts.shape[1], 1))"
   ]
  },
  {
   "cell_type": "code",
   "execution_count": 21,
   "metadata": {},
   "outputs": [
    {
     "output_type": "stream",
     "name": "stdout",
     "text": [
      "(25046,) (25046, 1000, 1)\n"
     ]
    }
   ],
   "source": [
    "print(affinity_tr_davis.shape, proteins_tr_davis_reshape.shape)"
   ]
  },
  {
   "source": [
    "Prepare data for GNN"
   ],
   "cell_type": "markdown",
   "metadata": {}
  },
  {
   "cell_type": "code",
   "execution_count": null,
   "metadata": {},
   "outputs": [],
   "source": [
    "train_dataset = dc.data.NumpyDataset([convmol_tr_davis, proteins_tr_davis_reshape], affinity_tr_davis)"
   ]
  },
  {
   "cell_type": "code",
   "execution_count": 20,
   "metadata": {},
   "outputs": [
    {
     "output_type": "error",
     "ename": "AttributeError",
     "evalue": "'GraphConvModel' object has no attribute 'output'",
     "traceback": [
      "\u001b[0;31m---------------------------------------------------------------------------\u001b[0m",
      "\u001b[0;31mAttributeError\u001b[0m                            Traceback (most recent call last)",
      "\u001b[0;32m<ipython-input-20-6de6916c2964>\u001b[0m in \u001b[0;36m<module>\u001b[0;34m\u001b[0m\n\u001b[1;32m     17\u001b[0m \u001b[0;34m\u001b[0m\u001b[0m\n\u001b[1;32m     18\u001b[0m \u001b[0mprot_cnn\u001b[0m \u001b[0;34m=\u001b[0m \u001b[0msub_cnn\u001b[0m\u001b[0;34m(\u001b[0m\u001b[0mnum_prot_davis\u001b[0m\u001b[0;34m)\u001b[0m\u001b[0;34m\u001b[0m\u001b[0;34m\u001b[0m\u001b[0m\n\u001b[0;32m---> 19\u001b[0;31m \u001b[0mcnn_concat\u001b[0m \u001b[0;34m=\u001b[0m \u001b[0mconcatenate\u001b[0m\u001b[0;34m(\u001b[0m\u001b[0;34m[\u001b[0m\u001b[0mgnn\u001b[0m\u001b[0;34m.\u001b[0m\u001b[0moutput\u001b[0m\u001b[0;34m,\u001b[0m \u001b[0mprot_cnn\u001b[0m\u001b[0;34m.\u001b[0m\u001b[0moutput\u001b[0m\u001b[0;34m]\u001b[0m\u001b[0;34m)\u001b[0m\u001b[0;34m\u001b[0m\u001b[0;34m\u001b[0m\u001b[0m\n\u001b[0m\u001b[1;32m     20\u001b[0m \u001b[0;34m\u001b[0m\u001b[0m\n\u001b[1;32m     21\u001b[0m \u001b[0mcnn_concat\u001b[0m \u001b[0;34m=\u001b[0m \u001b[0mDense\u001b[0m\u001b[0;34m(\u001b[0m\u001b[0;36m1024\u001b[0m\u001b[0;34m,\u001b[0m \u001b[0mactivation\u001b[0m\u001b[0;34m=\u001b[0m\u001b[0;34m'relu'\u001b[0m\u001b[0;34m)\u001b[0m\u001b[0;34m(\u001b[0m\u001b[0mcnn_concat\u001b[0m\u001b[0;34m)\u001b[0m\u001b[0;34m\u001b[0m\u001b[0;34m\u001b[0m\u001b[0m\n",
      "\u001b[0;31mAttributeError\u001b[0m: 'GraphConvModel' object has no attribute 'output'"
     ]
    }
   ],
   "source": [
    "import warnings\n",
    "warnings.filterwarnings(\"ignore\")\n",
    "\n",
    "# This finds the number of tasks (ie things we are trying to predict) and then runs\n",
    "# a regression model for each of those tasks (in our case just 1)\n",
    "# n_tasks = len(tasks)\n",
    "gnn = dc.models.GraphConvModel(1, mode='regression')\n",
    "# gnn = Dense(16, activation= 'linear')(gnn.)\n",
    "def sub_cnn(input_dim):\n",
    "    cnn = Sequential() # Create sequential model\n",
    "    cnn.add(Conv1D(16, 3, activation='relu', input_shape=(input_dim, 1)))\n",
    "    cnn.add(MaxPooling1D(3))\n",
    "    cnn.add(Flatten())\n",
    "    cnn.add(Dropout(0.1))\n",
    "    cnn.add(Dense(16, activation = 'linear'))\n",
    "    return cnn\n",
    "\n",
    "prot_cnn = sub_cnn(num_prot_davis)\n",
    "cnn_concat = concatenate([gnn.output, prot_cnn.output])\n",
    "\n",
    "cnn_concat = Dense(1024, activation='relu')(cnn_concat)\n",
    "cnn_concat = Dropout(0.1)(cnn_concat)\n",
    "cnn_concat = Dense(16, activation='relu')(cnn_concat)\n",
    "\n",
    "cnn_concat = Dense(1, activation='linear')(cnn_concat)\n",
    "\n",
    "cnn = Model(inputs=[gnn.input, prot_cnn.input], outputs=cnn_concat)\n",
    "# Show model summary\n",
    "cnn.compile(optimizer='adam', loss='mean_squared_error', metrics=['mean_squared_error'])\n",
    "cnn.summary()\n",
    "# model.fit(train_dataset, nb_epoch=50)  # Starting Keras 2.0, nb_epoch argument has been renamed to epochs everywhere."
   ]
  },
  {
   "cell_type": "code",
   "execution_count": null,
   "metadata": {},
   "outputs": [],
   "source": [
    "# CNN for protein\n",
    "Feat_input = Input(shape=(num_prot_davis,1))\n",
    "Feat_layer = Conv1D(16, 3, activation='relu', input_shape=(input_dim, 1))(Feat_input)\n",
    "Feat_layer = MaxPooling1D(3)(Feat_layer)\n",
    "Feat_layer = Flatten()(Feat_layer)\n",
    "Feat_layer = Dropout(0.1)(Feat_layer)\n",
    "Feat_layer = Dense(16, activation = 'linear')(Feat_layer)\n",
    "\n",
    "\n",
    "X_in = Input(shape=(1375, 3))\n",
    "A_in = Input(tensor=sp_matrix_to_sp_tensor(adj_mat))\n",
    "\n",
    "# GNN for \n",
    "graph_conv = GraphConvSkip(64, activation='relu',kernel_regularizer=l2(l2_reg),name='graph_input')([X_in, A_in])\n",
    "graph_conv = Dropout(0.5)(graph_conv)\n",
    "\n",
    "graph_conv = ChebConv(32, activation='relu', kernel_regularizer=l2(l2_reg)([graph_conv,A_in])\n",
    "\n",
    "graph_conv = Dropout(0.5)(graph_conv)\n",
    "\n",
    "graph_conv = GraphConvSkip(64, activation='relu', kernel_regularizer=l2(l2_reg)([graph_conv,A_in])\n",
    "graph_conv = Dropout(0.5)(graph_conv)\n",
    "graph_conv = ChebConv(32, activation='relu', kernel_regularizer=l2(l2_reg))([graph_conv, A_in])\n",
    "\n",
    "flatten = Flatten()(graph_conv)\n",
    "\n",
    "concatenated = concatenate([flatten, Feat_layer])\n",
    "\n",
    "fc = Dense(512, activation='relu')(concatenated)\n",
    "fc = Dense(256, activation='relu')(FC)\n",
    "output = Dense(n_out, activation='softmax')(FC)\n",
    "\n",
    "model = Model(inputs={'graph_input':[X_in, A_in], 'lstm_input':Feat_input}, outputs=output)\n",
    "\n",
    "optimizer = RMSprop(lr=learning_rate)\n",
    "\n",
    "model.compile(optimizer=optimizer, loss='categorical_crossentropy', metrics=['acc'])\n",
    "model.summary()\n",
    "history = model.fit({'graph_input': [X_train], 'lstm_input': x_train_feat }, y_train, batch_size=28, epochs=250,steps_per_epoch=10)"
   ]
  },
  {
   "source": [
    "Build a 2D CNN based on graph DAVIS data\n",
    "\n",
    "\n"
   ],
   "cell_type": "markdown",
   "metadata": {}
  },
  {
   "cell_type": "code",
   "execution_count": 9,
   "metadata": {},
   "outputs": [
    {
     "output_type": "error",
     "ename": "NameError",
     "evalue": "name 'num_drugs' is not defined",
     "traceback": [
      "\u001b[0;31m---------------------------------------------------------------------------\u001b[0m",
      "\u001b[0;31mNameError\u001b[0m                                 Traceback (most recent call last)",
      "\u001b[0;32m<ipython-input-9-d8251195be1b>\u001b[0m in \u001b[0;36m<module>\u001b[0;34m\u001b[0m\n\u001b[1;32m     29\u001b[0m     \u001b[0;32mreturn\u001b[0m \u001b[0mcnn\u001b[0m\u001b[0;34m\u001b[0m\u001b[0;34m\u001b[0m\u001b[0m\n\u001b[1;32m     30\u001b[0m \u001b[0;34m\u001b[0m\u001b[0m\n\u001b[0;32m---> 31\u001b[0;31m \u001b[0mnodes_cnn\u001b[0m \u001b[0;34m=\u001b[0m \u001b[0mcnn2d_nodes\u001b[0m\u001b[0;34m(\u001b[0m\u001b[0mnum_drugs\u001b[0m\u001b[0;34m)\u001b[0m\u001b[0;34m\u001b[0m\u001b[0;34m\u001b[0m\u001b[0m\n\u001b[0m\u001b[1;32m     32\u001b[0m \u001b[0madj_cnn\u001b[0m \u001b[0;34m=\u001b[0m \u001b[0mcnn2d_adj\u001b[0m\u001b[0;34m(\u001b[0m\u001b[0mnum_prot\u001b[0m\u001b[0;34m)\u001b[0m\u001b[0;34m\u001b[0m\u001b[0;34m\u001b[0m\u001b[0m\n\u001b[1;32m     33\u001b[0m \u001b[0mprot_cnn\u001b[0m \u001b[0;34m=\u001b[0m \u001b[0mcnn1d\u001b[0m\u001b[0;34m(\u001b[0m\u001b[0minput_dim\u001b[0m\u001b[0;34m)\u001b[0m\u001b[0;34m\u001b[0m\u001b[0;34m\u001b[0m\u001b[0m\n",
      "\u001b[0;31mNameError\u001b[0m: name 'num_drugs' is not defined"
     ]
    }
   ],
   "source": [
    "\n",
    "\n",
    "nodes = nodes_ts_davis[0]\n",
    "adj = adj_ts_davis[0]\n",
    "\n",
    "def cnn1d(input_dim):\n",
    "    cnn = Sequential() # Create sequential model\n",
    "    cnn.add(Conv1D(16, 3, activation='relu', input_shape=(input_dim, 1)))\n",
    "    cnn.add(MaxPooling1D(3))\n",
    "    cnn.add(Flatten())\n",
    "    cnn.add(Dropout(0.1))\n",
    "    cnn.add(Dense(16, activation = 'linear'))\n",
    "    return cnn\n",
    "\n",
    "def cnn2d_nodes(nodes):\n",
    "    cnn = Sequential() # Create sequential model\n",
    "    cnn.add(Conv2D(16, 3, activation='relu', input_shape=nodes.shape))\n",
    "    cnn.add(MaxPooling2D(3))\n",
    "    cnn.add(Flatten())\n",
    "    cnn.add(Dropout(0.1))\n",
    "    cnn.add(Dense(16, activation = 'linear'))\n",
    "    return cnn\n",
    "\n",
    "def cnn2d_adj(adj):\n",
    "    cnn = Sequential() # Create sequential model\n",
    "    cnn.add(Conv2D(16, 3, activation='relu', input_shape=adj.shape))\n",
    "    cnn.add(MaxPooling2D(3))\n",
    "    cnn.add(Flatten())\n",
    "    cnn.add(Dropout(0.1))\n",
    "    cnn.add(Dense(16, activation = 'linear'))\n",
    "    return cnn\n",
    "\n",
    "nodes_cnn = cnn2d_nodes(nodes)\n",
    "adj_cnn = cnn2d_adj(adj)\n",
    "prot_cnn = cnn1d(input_dim)\n",
    "cnn_concat = concatenate([nodes_cnn.output, adj_cnn.output, prot_cnn.output])\n",
    "\n",
    "final_concat = Model(inputs=[[nodes_cnn.input, adj_cnn.input], prot_cnn.input], outputs=cnn_concat)\n",
    "\n",
    "\n",
    "final_concat = Dense(1024, activation='relu')(final_concat)\n",
    "final_concat = Dropout(0.1)(cnn_concat)\n",
    "final_concat = Dense(16, activation='relu')(final_concat)\n",
    "\n",
    "final = Dense(1, activation='linear')(final_concat)\n",
    "\n",
    "\n",
    "# Show model summary\n",
    "final.compile(optimizer='adam', loss='mean_squared_error', metrics=['mean_squared_error'])\n",
    "final.summary()"
   ]
  },
  {
   "cell_type": "code",
   "execution_count": null,
   "metadata": {},
   "outputs": [],
   "source": [
    "# Convert SMILES to graphs\n",
    "smiles_kiba, convmol_kiba = smiles_graph(LOCAL_KIBA_PATH)\n",
    "smiles_davis, convmol_davis = smiles_graph(LOCAL_DAVIS_PATH)"
   ]
  },
  {
   "source": [
    "Convert graphs to 2D matrix of 1s and 0s"
   ],
   "cell_type": "markdown",
   "metadata": {}
  },
  {
   "cell_type": "code",
   "execution_count": null,
   "metadata": {},
   "outputs": [],
   "source": []
  },
  {
   "cell_type": "code",
   "execution_count": null,
   "metadata": {},
   "outputs": [],
   "source": []
  },
  {
   "source": [
    "Train a CNN model on DAVIS Data"
   ],
   "cell_type": "markdown",
   "metadata": {}
  },
  {
   "cell_type": "code",
   "execution_count": 2,
   "metadata": {},
   "outputs": [],
   "source": [
    "from keras.layers import Dense, Dropout, LSTM\n",
    "from keras.optimizers import Adam\n",
    "from keras import Sequential, Model\n",
    "from keras.layers import Conv1D, MaxPooling1D, Flatten"
   ]
  },
  {
   "source": [
    "Prepare graph data for CNN"
   ],
   "cell_type": "markdown",
   "metadata": {}
  },
  {
   "cell_type": "code",
   "execution_count": null,
   "metadata": {},
   "outputs": [],
   "source": [
    "num_train, num_drugs = drugs_ecfp_tr.shape\n",
    "num_prot = proteins_tr.shape[1]\n",
    "drugs_tr_reshape = drugs_ecfp_tr.reshape((num_train, num_drugs, 1))\n",
    "proteins_tr_reshape = proteins_tr.reshape((num_train, num_prot, 1))\n",
    "\n",
    "# Testing data\n",
    "drug_ts_reshape = drugs_ecfp_ts.reshape((drugs_ecfp_ts.shape[0], drugs_ecfp_ts.shape[1], 1))\n",
    "proteins_ts_reshape = proteins_ts.reshape((proteins_ts.shape[0], proteins_ts.shape[1], 1))"
   ]
  }
 ]
}